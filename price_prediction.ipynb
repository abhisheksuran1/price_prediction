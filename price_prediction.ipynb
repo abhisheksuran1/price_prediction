{
 "cells": [
  {
   "cell_type": "code",
   "execution_count": null,
   "metadata": {},
   "outputs": [],
   "source": [
    "import tensorflow as tf\n",
    "#import numpy as np\n",
    "import pandas as pd\n",
    "#from tensorflow import feature_column\n",
    "from tensorflow.keras import layers\n",
    "from sklearn.model_selection import train_test_split\n",
    "from tensorflow import keras"
   ]
  },
  {
   "cell_type": "code",
   "execution_count": null,
   "metadata": {},
   "outputs": [],
   "source": [
    "df = pd.read_csv(\"Real estate.csv\")\n",
    "df.head()\n",
    "df"
   ]
  },
  {
   "cell_type": "code",
   "execution_count": null,
   "metadata": {},
   "outputs": [],
   "source": [
    "print(df.info())\n",
    "print(df.describe())"
   ]
  },
  {
   "cell_type": "code",
   "execution_count": null,
   "metadata": {},
   "outputs": [],
   "source": [
    "df.drop('No', axis=1,inplace=True)\n",
    "\n",
    "#normalising\n",
    "\n",
    "df.distanceToTheNearestMRTStation = (df['distanceToTheNearestMRTStation'] - df['distanceToTheNearestMRTStation'].mean()) / (df['distanceToTheNearestMRTStation'].max() - df['distanceToTheNearestMRTStation'].min())\n",
    "df.latitude = (df['latitude'] - df['latitude'].mean()) / (df['latitude'].max() - df['latitude'].min())\n",
    "df.longitude = (df['longitude'] - df['longitude'].mean()) / (df['longitude'].max() - df['longitude'].min())\n",
    "df.transactionDate = df['transactionDate'].astype('int')\n",
    "df.number_of_convenience_stores = (df['number_of_convenience_stores'] - df['number_of_convenience_stores'].mean()) / (df['number_of_convenience_stores'].max() - df['number_of_convenience_stores'].min())\n",
    "df.houseAge = (df['houseAge'] - df['houseAge'].mean()) / (df['houseAge'].max() - df['houseAge'].min())\n",
    "\n",
    "\n",
    "#creating dommie variables\n",
    "\n",
    "dummies = pd.get_dummies(df['transactionDate'], dtype='int')\n",
    "df = pd.concat([df,dummies],axis=1) \n",
    "df.drop('transactionDate', axis=1, inplace=True)\n",
    "\n",
    "df = df.dropna()\n",
    "\n",
    "df.head()"
   ]
  },
  {
   "cell_type": "code",
   "execution_count": null,
   "metadata": {},
   "outputs": [],
   "source": [
    "#spliting inti training and evaluation set\n",
    "train, val = train_test_split(df, test_size=0.2)\n",
    "\n",
    "# training dataset\n",
    "train_target = train.pop('house_price_of_unit_area')\n",
    "train_dataset = tf.data.Dataset.from_tensor_slices((train.values, train_target.values))\n",
    "\n",
    "#evaluation set\n",
    "\n",
    "val_target = val.pop('house_price_of_unit_area')\n",
    "val_dataset = tf.data.Dataset.from_tensor_slices((val.values, val_target.values))\n",
    "\n",
    "\n",
    "#sample from training set\n",
    "for feat, targ in train_dataset.take(1):\n",
    "     print ('Features: {}, Target: {}'.format(feat, targ))"
   ]
  },
  {
   "cell_type": "code",
   "execution_count": null,
   "metadata": {},
   "outputs": [],
   "source": [
    "#model\n",
    "\n",
    "model = keras.Sequential()\n",
    "model.add(layers.Dense(32, input_shape=(1,))) # shape is (1,) because can't use batches due to less data\n",
    "model.add(layers.Dense(16, activation='relu') )\n",
    "model.add(layers.Dense(8, activation='relu' ))\n",
    "model.add(layers.Dense(2, activation='relu' ))\n",
    "model.add(layers.Dense(1))\n",
    "          \n"
   ]
  },
  {
   "cell_type": "code",
   "execution_count": null,
   "metadata": {},
   "outputs": [],
   "source": [
    "optimizer = tf.keras.optimizers.RMSprop(0.001)\n",
    "\n",
    "model.compile(loss='mse',optimizer=optimizer,metrics=['accuracy'])\n"
   ]
  },
  {
   "cell_type": "code",
   "execution_count": null,
   "metadata": {},
   "outputs": [],
   "source": [
    "model.summary()\n"
   ]
  },
  {
   "cell_type": "code",
   "execution_count": null,
   "metadata": {
    "scrolled": true
   },
   "outputs": [],
   "source": [
    "history = model.fit( train_dataset,validation_data=val_dataset ,epochs=200, verbose=1)\n"
   ]
  },
  {
   "cell_type": "code",
   "execution_count": null,
   "metadata": {},
   "outputs": [],
   "source": []
  }
 ],
 "metadata": {
  "kernelspec": {
   "display_name": "tf",
   "language": "python",
   "name": "tf"
  },
  "language_info": {
   "codemirror_mode": {
    "name": "ipython",
    "version": 3
   },
   "file_extension": ".py",
   "mimetype": "text/x-python",
   "name": "python",
   "nbconvert_exporter": "python",
   "pygments_lexer": "ipython3",
   "version": "3.7.6"
  }
 },
 "nbformat": 4,
 "nbformat_minor": 4
}
